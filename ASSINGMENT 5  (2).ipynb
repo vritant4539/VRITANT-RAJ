{
 "cells": [
  {
   "cell_type": "code",
   "execution_count": null,
   "id": "e5eb8d06-73be-4474-b220-d210e9b99919",
   "metadata": {},
   "outputs": [],
   "source": [
    "1. What are the five key concepts of Object-Oriented Programming (OOP)?"
   ]
  },
  {
   "cell_type": "code",
   "execution_count": null,
   "id": "f5f1fc73-9aec-4101-9136-5d8141837bca",
   "metadata": {},
   "outputs": [],
   "source": [
    "The five key concepts of Object-Oriented Programming (OOP) are:\n",
    "\n",
    "Encapsulation: This principle involves bundling data (attributes) and methods (functions) that operate on that data into a single unit, or object. It also restricts direct access to some of the object’s components, which helps protect the integrity of the data.\n",
    "\n",
    "Abstraction: Abstraction focuses on hiding the complex reality while exposing only the necessary parts. It allows programmers to work with higher-level concepts without needing to understand all the details of the underlying implementation.\n",
    "\n",
    "Inheritance: This concept allows one class (the child or subclass) to inherit attributes and methods from another class (the parent or superclass). Inheritance promotes code reuse and establishes a hierarchical relationship between classes.\n",
    "\n",
    "Polymorphism: Polymorphism enables methods to do different things based on the object it is acting upon. It allows for the use of a single interface or method to represent different underlying forms (data types), typically achieved through method overriding and overloading.\n",
    "\n",
    "Classes and Objects: Classes are blueprints for creating objects, defining the properties and behaviors that the objects will have. An object is an instance of a class, representing a specific implementation of that blueprint with actual data.\n",
    "\n",
    "These concepts work together to provide a robust framework for designing and organizing code in an OOP paradigm."
   ]
  },
  {
   "cell_type": "code",
   "execution_count": null,
   "id": "a4c29f94-66cd-4996-9e46-069df18a38c6",
   "metadata": {},
   "outputs": [],
   "source": [
    "\n",
    "2. Write a Python class for a `Car` with attributes for `make`, `model`, and `year`. Include a method to display the car's information."
   ]
  },
  {
   "cell_type": "code",
   "execution_count": null,
   "id": "0f7c8b59-f9a0-4fb7-b5a0-7337163d344a",
   "metadata": {},
   "outputs": [],
   "source": [
    "class Car:\n",
    "    def __init__(self, make, model, year):\n",
    "        self.make = make\n",
    "        self.model = model\n",
    "        self.year = year\n",
    "\n",
    "    def display_info(self):\n",
    "        print(f\"Car Make: {self.make}\")\n",
    "        print(f\"Car Model: {self.model}\")\n",
    "        print(f\"Car Year: {self.year}\")\n",
    "\n",
    "# Example usage\n",
    "my_car = Car(\"Toyota\", \"Corolla\", 2020)\n",
    "my_car.display_info()\n",
    "\n"
   ]
  },
  {
   "cell_type": "code",
   "execution_count": null,
   "id": "c195bead-e712-408d-8dd6-350cafd152c9",
   "metadata": {},
   "outputs": [],
   "source": [
    "3. Explain the difference between instance methods and class methods. Provide an example of each."
   ]
  },
  {
   "cell_type": "code",
   "execution_count": null,
   "id": "63fc8ffc-59cf-488f-afce-06f28149224d",
   "metadata": {},
   "outputs": [],
   "source": [
    "In Python, instance methods and class methods serve different purposes and are defined differently. Here’s a breakdown of their differences along with examples:\n",
    "\n",
    "Instance Methods\n",
    "Definition: Instance methods are functions defined within a class that operate on instances (objects) of that class. They take self as their first parameter, which refers to the instance calling the method.\n",
    "Purpose: They are used to access or modify the instance's attributes.\n",
    "\n",
    "class Dog:\n",
    "    def __init__(self, name):\n",
    "        self.name = name\n",
    "\n",
    "    def bark(self):\n",
    "        return f\"{self.name} says Woof!\"\n",
    "        \n",
    "\n",
    "# Creating an instance\n",
    "my_dog = Dog(\"Buddy\")\n",
    "print(my_dog.bark())  # Output: Buddy says Woof!\n"
   ]
  },
  {
   "cell_type": "code",
   "execution_count": null,
   "id": "7a62ae3f-7ab4-4668-b235-2154b2ff0a8e",
   "metadata": {},
   "outputs": [],
   "source": [
    "4.How does Python implement method overloading? Give an example."
   ]
  },
  {
   "cell_type": "code",
   "execution_count": null,
   "id": "944909cb-6471-4e38-b239-60420e679f71",
   "metadata": {},
   "outputs": [],
   "source": [
    "Python does not support traditional method overloading like some other languages (e.g., Java or C++), where multiple methods can share the same name but differ in the number or type of parameters. Instead, Python allows for a more dynamic approach to method behavior through default arguments, variable-length arguments, or by checking the types or number of arguments within a single method.\n",
    "\n",
    "Example of Method Overloading in Python\n",
    "You can implement a form of method overloading by using default parameters or *args and **kwargs. Here’s an example demonstrating how to handle different numbers of parameters:\n",
    "class MathOperations:\n",
    "    def add(self, *args):\n",
    "        return sum(args)\n",
    "\n",
    "# Creating an instance\n",
    "math_ops = MathOperations()\n",
    "\n",
    "# Using the add method with different numbers of arguments\n",
    "print(math_ops.add(1, 2))              # Output: 3\n",
    "print(math_ops.add(1, 2, 3, 4, 5))     # Output: 15\n",
    "print(math_ops.add(10))                 # Output: 10\n"
   ]
  },
  {
   "cell_type": "code",
   "execution_count": null,
   "id": "6da8432d-b972-4576-91d1-789302c5a268",
   "metadata": {},
   "outputs": [],
   "source": [
    "5. What are the three types of access modifiers in Python? How are they denoted?"
   ]
  },
  {
   "cell_type": "code",
   "execution_count": null,
   "id": "7897601f-5e03-43e7-b1ea-5ab9da4215e4",
   "metadata": {},
   "outputs": [],
   "source": [
    "In Python, there are three types of access modifiers that control the visibility of class members (attributes and methods). They are:\n",
    "\n",
    "1. Public\n",
    "Definition: Public members are accessible from anywhere, both inside and outside the class.\n",
    "Denotation: By default, all members are public unless specified otherwise. They are simply defined without any special prefixes.\n",
    "class Example:\n",
    "    def __init__(self):\n",
    "        self.public_var = \"I am public\"\n",
    "\n",
    "obj = Example()\n",
    "print(obj.public_var)  # Output: I am public\n"
   ]
  },
  {
   "cell_type": "code",
   "execution_count": null,
   "id": "7cddb9a5-4560-41b6-aeb4-296c4fd97e2a",
   "metadata": {},
   "outputs": [],
   "source": [
    "6. Describe the five types of inheritance in Python. Provide a simple example of multiple inheritance."
   ]
  },
  {
   "cell_type": "code",
   "execution_count": null,
   "id": "71a4c322-7707-4aef-8fcc-58771c02d5af",
   "metadata": {},
   "outputs": [],
   "source": [
    "\n",
    "In Python, inheritance allows one class (the child class) to inherit attributes and methods from another class (the parent class). Here are the five types of inheritance:\n",
    "\n",
    "1. Single Inheritance\n",
    "In single inheritance, a child class inherits from one parent class.\n",
    "class Parent:\n",
    "    def display(self):\n",
    "        return \"This is the parent class.\"\n",
    "\n",
    "class Child(Parent):\n",
    "    pass\n",
    "\n",
    "obj = Child()\n",
    "print(obj.display())  # Output: This is the parent class.\n"
   ]
  },
  {
   "cell_type": "code",
   "execution_count": null,
   "id": "0863cc16-7a15-4ac3-b292-0235fcabc946",
   "metadata": {},
   "outputs": [],
   "source": [
    "7. What is the Method Resolution Order (MRO) in Python? How can you retrieve it programmatically?"
   ]
  },
  {
   "cell_type": "code",
   "execution_count": null,
   "id": "d2497ac2-e1de-4793-8a63-6da68355525c",
   "metadata": {},
   "outputs": [],
   "source": [
    "Method Resolution Order (MRO) in Python refers to the order in which base classes are looked up when searching for a method or attribute in a class hierarchy. MRO is particularly important in the context of multiple inheritance, as it helps to determine which method or attribute to use when it is present in more than one base class.\n",
    "\n",
    "MRO and C3 Linearization\n",
    "Python uses an algorithm called C3 linearization to determine the MRO. The MRO ensures that:\n",
    "\n",
    "A class is always considered before its parents.\n",
    "The order of parents is preserved.\n",
    "If a class appears as a parent in multiple places, it is only considered once.\n",
    "Retrieving MRO Programmatically\n",
    "You can retrieve the MRO of a class using the __mro__ attribute or the mro() method.\n",
    "\n"
   ]
  },
  {
   "cell_type": "code",
   "execution_count": null,
   "id": "3e90e812-3b31-42b4-9ba8-f4c16abd005f",
   "metadata": {},
   "outputs": [],
   "source": [
    "class A:\n",
    "    pass\n",
    "\n",
    "class B(A):\n",
    "    pass\n",
    "\n",
    "class C(A):\n",
    "    pass\n",
    "\n",
    "class D(B, C):\n",
    "    pass\n",
    "\n",
    "# Getting the MRO\n",
    "print(D.__mro__)  # Output: (<class '__main__.D'>, <class '__main__.B'>, <class '__main__.C'>, <class '__main__.A'>, <class 'object'>)\n",
    "\n",
    "# Alternatively, using the mro() method\n",
    "print(D.mro())  # Output: [<class '__main__.D'>, <class '__main__.B'>, <class '__main__.C'>, <class '__main__.A'>, <class 'object'>]\n",
    "\n"
   ]
  },
  {
   "cell_type": "code",
   "execution_count": null,
   "id": "9b78f5ca-ec16-4903-95e0-8e85a973d8b1",
   "metadata": {},
   "outputs": [],
   "source": [
    "8. Create an abstract base class `Shape` with an abstract method `area()`. Then create two subclasses `Circle` and `Rectangle` that implement the `area()` method."
   ]
  },
  {
   "cell_type": "code",
   "execution_count": null,
   "id": "d1d8fb19-f1b6-4b88-bc6d-8f6c3f7e7a88",
   "metadata": {},
   "outputs": [],
   "source": [
    "\n",
    "You can create an abstract base class in Python using the abc module. Below is an example of an abstract base class Shape with an abstract method area(), along with two subclasses Circle and Rectangle that implement the area() method.\n",
    "\n",
    "python\n",
    "from abc import ABC, abstractmethod\n",
    "import math\n",
    "\n",
    "# Abstract Base Class\n",
    "class Shape(ABC):\n",
    "    @abstractmethod\n",
    "    def area(self):\n",
    "        pass\n",
    "\n",
    "# Subclass for Circle\n",
    "class Circle(Shape):\n",
    "    def __init__(self, radius):\n",
    "        self.radius = radius\n",
    "\n",
    "    def area(self):\n",
    "        return math.pi * (self.radius ** 2)\n",
    "\n",
    "# Subclass for Rectangle\n",
    "class Rectangle(Shape):\n",
    "    def __init__(self, width, height):\n",
    "        self.width = width\n",
    "        self.height = height\n",
    "\n",
    "    def area(self):\n",
    "        return self.width * self.height\n",
    "\n",
    "# Example usage\n",
    "circle = Circle(5)\n",
    "rectangle = Rectangle(4, 6)\n",
    "\n",
    "print(f\"Area of Circle: {circle.area():.2f}\")  # Output: Area of Circle: 78.54\n",
    "print(f\"Area of Rectangle: {rectangle.area()}\")  # Output: Area of Rectangle: 24\n"
   ]
  },
  {
   "cell_type": "code",
   "execution_count": null,
   "id": "a71bc965-8218-43c5-b982-9bee6c563438",
   "metadata": {},
   "outputs": [],
   "source": [
    "9. Demonstrate polymorphism by creating a function that can work with different shape objects to calculate and print their areas."
   ]
  },
  {
   "cell_type": "code",
   "execution_count": null,
   "id": "a9f76142-8c18-417e-8d43-28741327ddf7",
   "metadata": {},
   "outputs": [],
   "source": [
    "Polymorphism allows different classes to be treated as instances of the same class through a common interface. In this example, we’ll create a function that accepts different shape objects and calculates their areas using the previously defined Shape, Circle, and Rectangle classes.\n",
    "\n",
    "Here’s how you can demonstrate polymorphism:\n",
    "from abc import ABC, abstractmethod\n",
    "import math\n",
    "\n",
    "# Abstract Base Class\n",
    "class Shape(ABC):\n",
    "    @abstractmethod\n",
    "    def area(self):\n",
    "        pass\n",
    "\n",
    "# Subclass for Circle\n",
    "class Circle(Shape):\n",
    "    def __init__(self, radius):\n",
    "        self.radius = radius\n",
    "\n",
    "    def area(self):\n",
    "        return math.pi * (self.radius ** 2)\n",
    "\n",
    "# Subclass for Rectangle\n",
    "class Rectangle(Shape):\n",
    "    def __init__(self, width, height):\n",
    "        self.width = width\n",
    "        self.height = height\n",
    "\n",
    "    def area(self):\n",
    "        return self.width * self.height\n",
    "\n",
    "# Function to calculate area\n",
    "def print_area(shape: Shape):\n",
    "    print(f\"Area: {shape.area():.2f}\")\n",
    "\n",
    "# Example usage\n",
    "circle = Circle(5)\n",
    "rectangle = Rectangle(4, 6)\n",
    "\n",
    "print_area(circle)      # Output: Area: 78.54\n",
    "print_area(rectangle)   # Output: Area: 24.00\n"
   ]
  },
  {
   "cell_type": "code",
   "execution_count": null,
   "id": "1cc1aa5d-b2ce-442e-a24f-801ddb5ed98f",
   "metadata": {},
   "outputs": [],
   "source": [
    "10. Implement encapsulation in a `BankAccount` class with private attributes for `balance` and `account_number`. Include methods for deposit, withdrawal, and balance inquiry."
   ]
  },
  {
   "cell_type": "code",
   "execution_count": null,
   "id": "f8df766a-3e2d-4682-9453-93639e945109",
   "metadata": {},
   "outputs": [],
   "source": [
    "Here’s an implementation of a BankAccount class that demonstrates encapsulation using private attributes for balance and account_number. The class includes methods for depositing, withdrawing, and inquiring the balance:\n",
    "\n",
    "python\n",
    "                                                                                                                                                                   class BankAccount:\n",
    "    def __init__(self, account_number, initial_balance=0):\n",
    "        self.__account_number = account_number  # Private attribute\n",
    "        self.__balance = initial_balance          # Private attribute\n",
    "\n",
    "    def deposit(self, amount):\n",
    "        if amount > 0:\n",
    "            self.__balance += amount\n",
    "            print(f\"Deposited: ${amount:.2f}\")\n",
    "        else:\n",
    "            print(\"Deposit amount must be positive.\")\n",
    "\n",
    "    def withdraw(self, amount):\n",
    "        if 0 < amount <= self.__balance:\n",
    "            self.__balance -= amount\n",
    "            print(f\"Withdrew: ${amount:.2f}\")\n",
    "        elif amount > self.__balance:\n",
    "            print(\"Insufficient funds.\")\n",
    "        else:\n",
    "            print(\"Withdrawal amount must be positive.\")\n",
    "\n",
    "    def get_balance(self):\n",
    "        return self.__balance\n",
    "\n",
    "    def get_account_number(self):\n",
    "        return self.__account_number\n",
    "\n",
    "# Example usage\n",
    "account = BankAccount(\"123456789\", 1000)\n",
    "\n",
    "print(f\"Account Number: {account.get_account_number()}\")\n",
    "print(f\"Initial Balance: ${account.get_balance():.2f}\")\n",
    "\n",
    "account.deposit(500)                # Output: Deposited: $500.00\n",
    "print(f\"Balance after deposit: ${account.get_balance():.2f}\")  # Output: Balance: $1500.00\n",
    "\n",
    "account.withdraw(200)               # Output: Withdrew: $200.00\n",
    "print(f\"Balance after withdrawal: ${account.get_balance():.2f}\")  # Output: Balance: $1300.00\n",
    "\n",
    "account.withdraw(1500)              # Output: Insufficient funds.\n"
   ]
  },
  {
   "cell_type": "code",
   "execution_count": null,
   "id": "cc773fea-853a-4b46-807d-51791b553657",
   "metadata": {},
   "outputs": [],
   "source": [
    "11. Write a class that overrides the `__str__` and `__add__` magic methods. What will these methods allow you to do?"
   ]
  },
  {
   "cell_type": "code",
   "execution_count": null,
   "id": "860bdf92-08bb-47b8-b9b5-95e5293061d0",
   "metadata": {},
   "outputs": [],
   "source": [
    "In Python, the __str__ and __add__ magic methods allow you to define how instances of your class behave when converted to a string and how they can be added together, respectively.\n",
    "\n",
    "Here’s an example of a class that implements both methods:\n",
    "class Vector:\n",
    "    def __init__(self, x, y):\n",
    "        self.x = x\n",
    "        self.y = y\n",
    "\n",
    "    def __str__(self):\n",
    "        return f\"Vector({self.x}, {self.y})\"\n",
    "\n",
    "    def __add__(self, other):\n",
    "        if isinstance(other, Vector):\n",
    "            return Vector(self.x + other.x, self.y + other.y)\n",
    "        return NotImplemented\n",
    "\n",
    "# Example usage\n",
    "v1 = Vector(2, 3)\n",
    "v2 = Vector(4, 5)\n",
    "\n",
    "print(v1)             # Output: Vector(2, 3)\n",
    "print(v2)             # Output: Vector(4, 5)\n",
    "\n",
    "v3 = v1 + v2         # Adding two vectors\n",
    "print(v3)             # Output: Vector(6, 8)\n"
   ]
  },
  {
   "cell_type": "code",
   "execution_count": null,
   "id": "908a60e0-4cf0-477a-905d-d860dd963aee",
   "metadata": {},
   "outputs": [],
   "source": [
    "11. Write a class that overrides the `__str__` and `__add__` magic methods. What will these methods allow you to do?"
   ]
  },
  {
   "cell_type": "code",
   "execution_count": null,
   "id": "6bc5353a-9d3a-4de5-a1f9-b60f792bc053",
   "metadata": {},
   "outputs": [],
   "source": [
    "Here’s a class that demonstrates the use of the __str__ and __add__ magic methods. We’ll create a Vector class that represents a mathematical vector, allowing us to easily visualize and perform vector addition.\n",
    "\n",
    "Example Class: Vector class Vector:\n",
    "    def __init__(self, x, y):\n",
    "        self.x = x\n",
    "        self.y = y\n",
    "\n",
    "    def __str__(self):\n",
    "        return f\"Vector({self.x}, {self.y})\"\n",
    "\n",
    "    def __add__(self, other):\n",
    "        if isinstance(other, Vector):\n",
    "            return Vector(self.x + other.x, self.y + other.y)\n",
    "        return NotImplemented\n",
    "\n",
    "# Example usage\n",
    "v1 = Vector(2, 3)\n",
    "v2 = Vector(4, 5)\n",
    "\n",
    "print(v1)             # Output: Vector(2, 3)\n",
    "print(v2)             # Output: Vector(4, 5)\n",
    "\n",
    "v3 = v1 + v2         # Adding two vectors\n",
    "print(v3)             # Output: Vector(6, 8)\n"
   ]
  },
  {
   "cell_type": "code",
   "execution_count": null,
   "id": "511a9ff1-d481-48cd-ad7e-c48e3926f7c1",
   "metadata": {},
   "outputs": [],
   "source": [
    "12. Create a decorator that measures and prints the execution time of a function."
   ]
  },
  {
   "cell_type": "code",
   "execution_count": null,
   "id": "ac17bd2c-5732-4225-be8d-1fb9712c30fe",
   "metadata": {},
   "outputs": [],
   "source": [
    "import time\n",
    "\n",
    "def time_execution(func):\n",
    "    def wrapper(*args, **kwargs):\n",
    "        start_time = time.time()  # Record the start time\n",
    "        result = func(*args, **kwargs)  # Call the actual function\n",
    "        end_time = time.time()  # Record the end time\n",
    "        execution_time = end_time - start_time  # Calculate the duration\n",
    "        print(f\"Execution time of '{func.__name__}': {execution_time:.4f} seconds\")\n",
    "        return result  # Return the result of the function\n",
    "    return wrapper\n",
    "\n",
    "# Example usage\n",
    "@time_execution\n",
    "def example_function(n):\n",
    "    total = 0\n",
    "    for i in range(n):\n",
    "        total += i\n",
    "    return total\n",
    "\n",
    "# Call the decorated function\n",
    "result = example_function(1000000)\n",
    "print(f\"Result: {result}\")  # Output the result\n"
   ]
  },
  {
   "cell_type": "code",
   "execution_count": null,
   "id": "b6cc4998-3da3-4cae-983e-d2a016ac40c1",
   "metadata": {},
   "outputs": [],
   "source": [
    "13. Explain the concept of the Diamond Problem in multiple inheritance. How does Python resolve it?"
   ]
  },
  {
   "cell_type": "code",
   "execution_count": null,
   "id": "82e03384-b86e-454e-907b-9a0f108f7960",
   "metadata": {},
   "outputs": [],
   "source": [
    "The Diamond Problem is a well-known issue in multiple inheritance where a class inherits from two classes that both inherit from a common superclass. This can lead to ambiguity regarding which superclass's methods or attributes should be used when they are called from the subclass.\n",
    "       A\n",
    "      / \\\n",
    "     B   C\n",
    "      \\ /\n",
    "       D\n",
    "\n",
    "In this diagram:\n",
    "\n",
    "Class A is the superclass.\n",
    "Classes B and C inherit from A.\n",
    "Class D inherits from both B and C.\n",
    "If D tries to access a method or attribute from A, it can create ambiguity: should it use the version from B or C?\n",
    "\n",
    "How Python Resolves the Diamond Problem\n",
    "Python uses a method resolution order (MRO) that is based on the C3 linearization algorithm. This algorithm provides a consistent order for method resolution, ensuring that each class is only called once and that the order respects the hierarchy of inheritance."
   ]
  },
  {
   "cell_type": "code",
   "execution_count": null,
   "id": "98032a01-5c02-4a31-bc7f-7baea83b83c9",
   "metadata": {},
   "outputs": [],
   "source": [
    "14. Write a class method that keeps track of the number of instances created from a class."
   ]
  },
  {
   "cell_type": "code",
   "execution_count": null,
   "id": "3c87c2b3-fa8e-497c-b0c8-1b109291b164",
   "metadata": {},
   "outputs": [],
   "source": [
    "class InstanceCounter:\n",
    "    # Class variable to keep track of instances\n",
    "    instance_count = 0\n",
    "\n",
    "    def __init__(self):\n",
    "        # Increment the instance count each time a new instance is created\n",
    "        InstanceCounter.instance_count += 1\n",
    "\n",
    "    @classmethod\n",
    "    def get_instance_count(cls):\n",
    "        # Class method to return the current instance count\n",
    "        return cls.instance_count\n",
    "\n",
    "# Example usage\n",
    "obj1 = InstanceCounter()\n",
    "obj2 = InstanceCounter()\n",
    "obj3 = InstanceCounter()\n",
    "\n",
    "print(f\"Number of instances created: {InstanceCounter.get_instance_count()}\")  # Output: 3\n",
    "\n"
   ]
  },
  {
   "cell_type": "code",
   "execution_count": null,
   "id": "f5c25fa0-8524-43ae-9368-9e6786035da9",
   "metadata": {},
   "outputs": [],
   "source": [
    "15. Implement a static method in a class that checks if a given year is a leap year."
   ]
  },
  {
   "cell_type": "code",
   "execution_count": null,
   "id": "45a2f738-c878-4444-b97f-04fd5a41db46",
   "metadata": {},
   "outputs": [],
   "source": [
    "You can implement a static method in a class that checks if a given year is a leap year. A year is considered a leap year if:\n",
    "\n",
    "It is divisible by 4.\n",
    "It is not divisible by 100, unless it is also divisible by 400.\n",
    "Here’s how you can create this in a class:\n",
    "class Year:\n",
    "    @staticmethod\n",
    "    def is_leap_year(year):\n",
    "        \"\"\"Check if a given year is a leap year.\"\"\"\n",
    "        if (year % 4 == 0 and year % 100 != 0) or (year % 400 == 0):\n",
    "            return True\n",
    "        return False\n",
    "\n",
    "# Example usage\n",
    "year_to_check = 2024\n",
    "if Year.is_leap_year(year_to_check):\n",
    "    print(f\"{year_to_check} is a leap year.\")\n",
    "else:\n",
    "    print(f\"{year_to_check} is not a leap year.\")\n",
    "\n",
    "year_to_check = 1900\n",
    "if Year.is_leap_year(year_to_check):\n",
    "    print(f\"{year_to_check} is a leap year.\")\n",
    "else:\n",
    "    print(f\"{year_to_check} is not a leap year.\")  # Output: 1900 is not a leap year.\n",
    "\n",
    "Explanation\n",
    "Static Method:\n",
    "\n",
    "The @staticmethod decorator indicates that is_leap_year does not depend on instance-specific data and can be called on the class itself.\n",
    "Leap Year Logic:\n",
    "\n",
    "The method checks the conditions for a leap year using basic arithmetic operations.\n",
    "Example Usage:\n",
    "\n",
    "You can call the is_leap_year method directly on the Year class without creating an instance. The method returns True or False based on whether the given year is a leap year.\n",
    "This implementation provides a clean and efficient way to check leap years without requiring an instance of the class, demonstrating the utility of static methods in Python."
   ]
  }
 ],
 "metadata": {
  "kernelspec": {
   "display_name": "Python 3 (ipykernel)",
   "language": "python",
   "name": "python3"
  },
  "language_info": {
   "codemirror_mode": {
    "name": "ipython",
    "version": 3
   },
   "file_extension": ".py",
   "mimetype": "text/x-python",
   "name": "python",
   "nbconvert_exporter": "python",
   "pygments_lexer": "ipython3",
   "version": "3.12.4"
  }
 },
 "nbformat": 4,
 "nbformat_minor": 5
}
