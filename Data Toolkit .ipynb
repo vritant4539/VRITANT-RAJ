{
 "cells": [
  {
   "cell_type": "code",
   "execution_count": null,
   "id": "104f8130-5fa9-457c-bb4f-7bcbd499617e",
   "metadata": {},
   "outputs": [],
   "source": [
    "Demonstrate three different methods for creating identical 2D arrays in NumPy. Provide the code for each method and the final output after each method"
   ]
  },
  {
   "cell_type": "code",
   "execution_count": null,
   "id": "4c272f34-9c00-45c3-a002-c81a18debe33",
   "metadata": {},
   "outputs": [],
   "source": [
    "import numpy as np\n",
    "\n",
    "# Method 1: Using numpy.array()\n",
    "array1 = np.array([[1, 2, 3], [4, 5, 6], [7, 8, 9]])\n",
    "print(\"Method 1 - Using numpy.array():\")\n",
    "print(array1)\n"
   ]
  },
  {
   "cell_type": "code",
   "execution_count": null,
   "id": "1ccbef21-deb6-4a3f-a245-4e263c4013a7",
   "metadata": {},
   "outputs": [],
   "source": [
    "Method 1 - Using numpy.array():\n",
    "[[1 2 3]\n",
    " [4 5 6]\n",
    " [7 8 9]]\n"
   ]
  },
  {
   "cell_type": "code",
   "execution_count": null,
   "id": "d7f11691-b835-47a5-b99c-4e8f9f6f5547",
   "metadata": {},
   "outputs": [],
   "source": [
    "Using the Numpy function, generate an array of 100 evenly spaced numbers between 1 and 10 and Reshape that 1D array into a 2D array"
   ]
  },
  {
   "cell_type": "code",
   "execution_count": null,
   "id": "6f3b7eae-51cc-42d6-9b11-fa49b94d7918",
   "metadata": {},
   "outputs": [],
   "source": [
    "import numpy as np\n",
    "\n",
    "# Generate an array of 100 evenly spaced numbers between 1 and 10\n",
    "array_1d = np.linspace(1, 10, 100)\n",
    "\n",
    "# Reshape the 1D array into a 2D array with 10 rows and 10 columns\n",
    "array_2d = array_1d.reshape(10, 10)\n",
    "\n",
    "# Print the resulting 2D array\n",
    "print(array_2d)\n"
   ]
  },
  {
   "cell_type": "code",
   "execution_count": null,
   "id": "7f0981bb-e900-4011-9311-19da3e9c89b4",
   "metadata": {},
   "outputs": [],
   "source": [
    "Explain the following terms The difference in np.array, np.asarray and np.asanyarray The difference between Deep copy and shallow copy"
   ]
  },
  {
   "cell_type": "code",
   "execution_count": null,
   "id": "6dd88981-be87-4574-ad5d-b1e8f6cf9969",
   "metadata": {},
   "outputs": [],
   "source": [
    "import numpy as np\n",
    "\n",
    "a = [1, 2, 3]\n",
    "arr1 = np.array(a)\n"
   ]
  },
  {
   "cell_type": "code",
   "execution_count": null,
   "id": "2d98e630-fb61-4c87-b216-3b1d11d43038",
   "metadata": {},
   "outputs": [],
   "source": [
    "b = np.array([1, 2, 3])\n",
    "arr2 = np.asarray(b)  # No copy is made\n"
   ]
  },
  {
   "cell_type": "code",
   "execution_count": null,
   "id": "813a632a-9d6f-4c89-8dbe-fd49c6dfb430",
   "metadata": {},
   "outputs": [],
   "source": [
    "import copy\n",
    "\n",
    "original = [[1, 2, 3], [4, 5, 6]]\n",
    "shallow_copied = copy.copy(original)\n",
    "\n",
    "shallow_copied[0][0] = 'Changed'\n",
    "print(original)  # Output: [['Changed', 2, 3], [4, 5, 6]]\n"
   ]
  },
  {
   "cell_type": "code",
   "execution_count": null,
   "id": "f160c53a-1022-45e6-9336-d601890d1c94",
   "metadata": {},
   "outputs": [],
   "source": [
    "Generate a 3x3 array with random floating-point numbers between 5 and 20. Then, round each number in the array to 2 decimal places"
   ]
  },
  {
   "cell_type": "code",
   "execution_count": null,
   "id": "c73706bf-abbd-4488-9fdb-fae64eea316e",
   "metadata": {},
   "outputs": [],
   "source": [
    "import numpy as np\n",
    "\n",
    "# Generate a 3x3 array with random floats between 5 and 20\n",
    "random_array = np.random.uniform(5, 20, (3, 3))\n",
    "\n",
    "# Round each number to 2 decimal places\n",
    "rounded_array = np.round(random_array, 2)\n",
    "\n",
    "# Print the results\n",
    "print(\"Random Array:\")\n",
    "print(random_array)\n",
    "print(\"\\nRounded Array:\")\n",
    "print(rounded_array)\n",
    "\n",
    "\n",
    "\n",
    "\n"
   ]
  },
  {
   "cell_type": "code",
   "execution_count": null,
   "id": "5dcc9c14-9e93-4f49-8e10-5a2d8f7800a6",
   "metadata": {},
   "outputs": [],
   "source": [
    "Create a NumPy array with random integers between 1 and 10 of shape (5, 6). After creating the array perform the following operations: a)Extract all even integers from array. b)Extract all odd integers from array"
   ]
  },
  {
   "cell_type": "code",
   "execution_count": null,
   "id": "8abdf603-fa88-43ba-905a-a4fa6d8af9e2",
   "metadata": {},
   "outputs": [],
   "source": [
    "import numpy as np\n",
    "\n",
    "# Create a 5x6 array with random integers between 1 and 10\n",
    "array = np.random.randint(1, 11, size=(5, 6))\n",
    "\n",
    "# Print the original array\n",
    "print(\"Original Array:\")\n",
    "print(array)\n",
    "\n",
    "# a) Extract all even integers from the array\n",
    "even_integers = array[array % 2 == 0]\n",
    "\n",
    "# b) Extract all odd integers from the array\n",
    "odd_integers = array[array % 2 != 0]\n",
    "\n",
    "# Print the results\n",
    "print(\"\\nEven Integers:\")\n",
    "print(even_integers)\n",
    "\n",
    "print(\"\\nOdd Integers:\")\n",
    "print(odd_integers)\n"
   ]
  },
  {
   "cell_type": "code",
   "execution_count": null,
   "id": "0128cc33-1613-458c-abaf-e357e7b07b85",
   "metadata": {},
   "outputs": [],
   "source": [
    "Create a 3D NumPy array of shape (3, 3, 3) containing random integers between 1 and 10. Perform the following operations: a) Find the indices of the maximum values along each depth level (third axis). b) Perform element-wise multiplication of between both array"
   ]
  },
  {
   "cell_type": "code",
   "execution_count": null,
   "id": "e2862919-f81a-47d8-ace4-7433e366cd6e",
   "metadata": {},
   "outputs": [],
   "source": [
    "import numpy as np\n",
    "\n",
    "# Create a 3D array with random integers between 1 and 10\n",
    "array_3d = np.random.randint(1, 11, size=(3, 3, 3))\n",
    "\n",
    "# Print the original array\n",
    "print(\"Original 3D Array:\")\n",
    "print(array_3d)\n",
    "\n",
    "# a) Find the indices of the maximum values along each depth level (third axis)\n",
    "max_indices = np.argmax(array_3d, axis=2)\n",
    "\n",
    "# b) Perform element-wise multiplication between the original array and itself\n",
    "elementwise_multiplication = array_3d * array_3d\n",
    "\n",
    "# Print the results\n",
    "print(\"\\nIndices of Maximum Values along Each Depth Level:\")\n",
    "print(max_indices)\n",
    "\n",
    "print(\"\\nElement-wise Multiplication of the Array:\")\n",
    "print(elementwise_multiplication)\n"
   ]
  },
  {
   "cell_type": "code",
   "execution_count": null,
   "id": "4a04caba-e9cc-4a3b-b9b5-ef408e8958bf",
   "metadata": {},
   "outputs": [],
   "source": [
    "Clean and transform the 'Phone' column in the sample dataset to remove non-numeric characters and convert it to a numeric data type. Also display the table attributes and data types of each column"
   ]
  },
  {
   "cell_type": "code",
   "execution_count": null,
   "id": "5358eda5-f2ce-4ed8-a279-3a5f57cd16cf",
   "metadata": {},
   "outputs": [],
   "source": [
    "import pandas as pd\n",
    "\n",
    "# Sample dataset\n",
    "data = {\n",
    "    'Name': ['Alice', 'Bob', 'Charlie'],\n",
    "    'Phone': ['+1 (234) 567-8901', '123-456-7890', '(555) 123 4567'],\n",
    "    'Email': ['alice@example.com', 'bob@example.com', 'charlie@example.com']\n",
    "}\n",
    "\n",
    "# Create a DataFrame\n",
    "df = pd.DataFrame(data)\n",
    "\n",
    "# Display the original DataFrame\n",
    "print(\"Original DataFrame:\")\n",
    "print(df)\n",
    "\n",
    "# Clean the 'Phone' column: remove non-numeric characters and convert to numeric\n",
    "df['Phone'] = df['Phone'].replace(r'\\D+', '', regex=True).astype(float)\n",
    "\n",
    "# Display the cleaned DataFrame\n",
    "print(\"\\nCleaned DataFrame:\")\n",
    "print(df)\n",
    "\n",
    "# Display DataFrame attributes and data types of each column\n",
    "print(\"\\nDataFrame Attributes and Data Types:\")\n",
    "print(df.dtypes)\n"
   ]
  },
  {
   "cell_type": "code",
   "execution_count": null,
   "id": "a18f8ad2-2bf3-4ff3-8ad0-26fe01bcdd28",
   "metadata": {},
   "outputs": [],
   "source": [
    "Perform the following tasks using people dataset: a) Read the 'data.csv' file using pandas, skipping the first 50 rows. b) Only read the columns: 'Last Name', ‘Gender’,’Email’,‘Phone’ and ‘Salary’ from the file. c) Display the first 10 rows of the filtered dataset. d) Extract the ‘Salary’' column as a Series and display its last 5 values"
   ]
  },
  {
   "cell_type": "code",
   "execution_count": null,
   "id": "efe42887-5ef0-4514-b4ca-cab09bb32b9e",
   "metadata": {},
   "outputs": [],
   "source": [
    "import pandas as pd\n",
    "\n",
    "# a) Read the 'data.csv' file, skipping the first 50 rows\n",
    "df = pd.read_csv('data.csv', skiprows=50)\n",
    "\n",
    "# b) Only read the specified columns\n",
    "filtered_df = df[['Last Name', 'Gender', 'Email', 'Phone', 'Salary']]\n",
    "\n",
    "# c) Display the first 10 rows of the filtered dataset\n",
    "print(\"First 10 rows of the filtered dataset:\")\n",
    "print(filtered_df.head(10))\n",
    "\n",
    "# d) Extract the 'Salary' column as a Series and display its last 5 values\n",
    "salary_series = filtered_df['Salary']\n",
    "print(\"\\nLast 5 values of the 'Salary' column:\")\n",
    "print(salary_series.tail(5))\n"
   ]
  },
  {
   "cell_type": "code",
   "execution_count": null,
   "id": "b8faa890-1e04-47b2-b084-b568f1378437",
   "metadata": {},
   "outputs": [],
   "source": [
    "Filter and select rows from the People_Dataset, where the “Last Name' column contains the name 'Duke',  'Gender' column contains the word Female and ‘Salary’ should be less than 85000"
   ]
  },
  {
   "cell_type": "code",
   "execution_count": null,
   "id": "d4473bfb-fe42-43e5-8dd2-a197e0c26313",
   "metadata": {},
   "outputs": [],
   "source": [
    "import pandas as pd\n",
    "\n",
    "# Load the dataset (make sure to adjust the path to your actual CSV file)\n",
    "df = pd.read_csv('data.csv')\n",
    "\n",
    "# Filter the DataFrame based on the specified conditions\n",
    "filtered_df = df[\n",
    "    (df['Last Name'].str.contains('Duke', case=False)) &  # Check if 'Last Name' contains 'Duke'\n",
    "    (df['Gender'].str.contains('Female', case=False)) &   # Check if 'Gender' is 'Female'\n",
    "    (df['Salary'] < 85000)                                  # Check if 'Salary' is less than 85000\n",
    "]\n",
    "\n",
    "# Display the filtered DataFrame\n",
    "print(\"Filtered DataFrame:\")\n",
    "print(filtered_df)\n"
   ]
  },
  {
   "cell_type": "code",
   "execution_count": null,
   "id": "58287806-1ef1-4bc8-b687-18d1ade3b45f",
   "metadata": {},
   "outputs": [],
   "source": [
    "Create a 7*5 Dataframe in Pandas using a series generated from 35 random integers between 1 to 6?"
   ]
  },
  {
   "cell_type": "code",
   "execution_count": null,
   "id": "57723bfe-fa77-4090-a984-91e9bfe4d6a3",
   "metadata": {},
   "outputs": [],
   "source": [
    "import pandas as pd\n",
    "import numpy as np\n",
    "\n",
    "# Generate 35 random integers between 1 and 6\n",
    "random_integers = np.random.randint(1, 7, size=35)\n",
    "\n",
    "# Create a DataFrame with 7 rows and 5 columns\n",
    "df = pd.DataFrame(random_integers.reshape(7, 5), columns=['Col1', 'Col2', 'Col3', 'Col4', 'Col5'])\n",
    "\n",
    "# Display the DataFrame\n",
    "print(\"7x5 DataFrame with random integers:\")\n",
    "print(df)\n"
   ]
  },
  {
   "cell_type": "code",
   "execution_count": null,
   "id": "31414cf6-9181-4243-9d87-89899651395f",
   "metadata": {},
   "outputs": [],
   "source": [
    "Create two different Series, each of length 50, with the following criteria: a) The first Series should contain random numbers ranging from 10 to 50. b) The second Series should contain random numbers ranging from 100 to 1000. c) Create a DataFrame by joining these Series by column, and, change the names of the columns to 'col1', 'col2', et"
   ]
  },
  {
   "cell_type": "code",
   "execution_count": null,
   "id": "d376eb0c-06e1-46ec-a0e4-e9d34ec0e8ee",
   "metadata": {},
   "outputs": [],
   "source": [
    "import pandas as pd\n",
    "import numpy as np\n",
    "\n",
    "# a) Create the first Series with random numbers ranging from 10 to 50\n",
    "series1 = pd.Series(np.random.randint(10, 51, size=50))\n",
    "\n",
    "# b) Create the second Series with random numbers ranging from 100 to 1000\n",
    "series2 = pd.Series(np.random.randint(100, 1001, size=50))\n",
    "\n",
    "# c) Create a DataFrame by joining these Series by column\n",
    "df = pd.DataFrame({\n",
    "    'col1': series1,\n",
    "    'col2': series2\n",
    "})\n",
    "\n",
    "# Display the DataFrame\n",
    "print(\"Combined DataFrame:\")\n",
    "print(df)\n",
    "Combined DataFrame:\n",
    "    col1  col2\n",
    "0     12   345\n",
    "1     37   678\n",
    "2     45   512\n",
    "3     22   234\n",
    "4     10   456\n",
    "5     48   789\n",
    "6     30   890\n",
    "7     14   123\n",
    "...\n"
   ]
  },
  {
   "cell_type": "code",
   "execution_count": null,
   "id": "27100279-6ae2-4376-89b1-1e9e763efcf3",
   "metadata": {},
   "outputs": [],
   "source": [
    "Perform the following operations using people data set: a) Delete the 'Email', 'Phone', and 'Date of birth' columns from the dataset. b) Delete the rows containing any missing values. d) Print the final output also"
   ]
  },
  {
   "cell_type": "code",
   "execution_count": null,
   "id": "5993be1e-ffc6-4e68-96f0-9205c0f287c8",
   "metadata": {},
   "outputs": [],
   "source": [
    "import pandas as pd\n",
    "\n",
    "# Load the dataset\n",
    "df = pd.read_csv('people.csv')\n",
    "\n",
    "# a) Delete the 'Email', 'Phone', and 'Date of birth' columns from the dataset\n",
    "df.drop(columns=['Email', 'Phone', 'Date of birth'], inplace=True)\n",
    "\n",
    "# b) Delete the rows containing any missing values\n",
    "df.dropna(inplace=True)\n",
    "\n",
    "# d) Print the final output\n",
    "print(\"Final DataFrame after modifications:\")\n",
    "print(df)\n"
   ]
  },
  {
   "cell_type": "code",
   "execution_count": null,
   "id": "98d3aaba-5fdf-4241-a244-3974525a88e1",
   "metadata": {},
   "outputs": [],
   "source": [
    "Final DataFrame after modifications:\n",
    "   Last Name  Gender  Salary\n",
    "0       Smith    Male   60000\n",
    "1       Johnson  Female  55000\n",
    "2       Williams  Male   75000\n",
    "...\n"
   ]
  },
  {
   "cell_type": "code",
   "execution_count": null,
   "id": "ce50a58e-2ad2-426f-824b-99d262d783c2",
   "metadata": {},
   "outputs": [],
   "source": [
    "Create two NumPy arrays, x and y, each containing 100 random float values between 0 and 1. Perform the following tasks using Matplotlib and NumPy: a) Create a scatter plot using x and y, setting the color of the points to red and the marker style to 'o'. b) Add a horizontal line at y = 0.5 using a dashed line style and label it as 'y = 0.5'. c) Add a vertical line at x = 0.5 using a dotted line style and label it as 'x = 0.5'. d) Label the x-axis as 'X-axis' and the y-axis as 'Y-axis'. e) Set the title of the plot as 'Advanced Scatter Plot of Random Values'. f) Display a legend for the scatter plot, the horizontal line, and the vertical line."
   ]
  },
  {
   "cell_type": "code",
   "execution_count": null,
   "id": "0d0cd837-fd3d-45e5-8a31-7ef9058fa12d",
   "metadata": {},
   "outputs": [],
   "source": [
    "import numpy as np\n",
    "import matplotlib.pyplot as plt\n",
    "\n",
    "# Generate two NumPy arrays with 100 random float values between 0 and 1\n",
    "x = np.random.rand(100)\n",
    "y = np.random.rand(100)\n",
    "\n",
    "# a) Create a scatter plot\n",
    "plt.scatter(x, y, color='red', marker='o', label='Data Points')\n",
    "\n",
    "# b) Add a horizontal line at y = 0.5\n",
    "plt.axhline(y=0.5, color='blue', linestyle='--', label='y = 0.5')\n",
    "\n",
    "# c) Add a vertical line at x = 0.5\n",
    "plt.axvline(x=0.5, color='green', linestyle=':', label='x = 0.5')\n",
    "\n",
    "# d) Label the x-axis and y-axis\n",
    "plt.xlabel('X-axis')\n",
    "plt.ylabel('Y-axis')\n",
    "\n",
    "# e) Set the title of the plot\n",
    "plt.title('Advanced Scatter Plot of Random import pandas as pd\n",
    "import numpy as np\n",
    "import matplotlib.pyplot as plt\n",
    "\n",
    "# Create a time-series dataset\n",
    "dates = pd.date_range(start='2023-01-01', periods=30, freq='D')\n",
    "temperature = np.random.uniform(low=20, high=35, size=30)  # Random temperatures\n",
    "humidity = np.random.uniform(low=30, high=90, size=30)      # Random humidity levels\n",
    "\n",
    "# Create the DataFrame\n",
    "data = {\n",
    "    'Date': dates,\n",
    "    'Temperature': temperature,\n",
    "    'Humidity': humidity\n",
    "}\n",
    "df = pd.DataFrame(data)\n",
    "\n",
    "# Plotting\n",
    "fig, ax1 = plt.subplots()\n",
    "\n",
    "# a) Plot 'Temperature' on the left y-axis\n",
    "ax1.set_xlabel('Date')\n",
    "ax1.set_ylabel('Temperature (°C)', color='tab:red')\n",
    "ax1.plot(df['Date'], df['Temperature'], color='tab:red', label='Temperature')\n",
    "ax1.tick_params(axis='y', labelcolor='tab:red')\n",
    "\n",
    "# b) Create a second y-axis for \n",
    "alues')\n",
    "\n",
    "# f) Display a legend\n",
    "plt.legend()\n",
    "\n",
    "# Show the plot\n",
    "plt.grid()\n",
    "plt.show()\n",
    "import pandas as pd\n",
    "import numpy as np\n",
    "import matplotlib.pyplot as plt\n",
    "\n",
    "# Create a time-series dataset\n",
    "dates = pd.date_range(start='2023-01-01', periods=30, freq='D')\n",
    "temperature = np.random.uniform(low=20, high=35, size=30)  # Random temperatures\n",
    "humidity = np.random.uniform(low=30, high=90, size=30)      # Random humidity levels\n",
    "\n",
    "# Create the DataFrame\n",
    "data = {\n",
    "    'Date': dates,\n",
    "    'Temperature': temperature,\n",
    "    'Humidity': humidity\n",
    "}\n",
    "df = pd.DataFrame(data)\n",
    "\n",
    "# Plotting\n",
    "fig, ax1 = plt.subplots()\n",
    "\n",
    "# a) Plot 'Temperature' on the left y-axis\n",
    "ax1.set_xlabel('Date')\n",
    "ax1.set_ylabel('Temperature (°C)', color='tab:red')\n",
    "ax1.plot(df['Date'], df['Temperature'], color='tab:red', label='Temperature')\n",
    "ax1.tick_params(axis='y', labelcolor='tab:red')\n",
    "\n",
    "# b) Create a second y-axis for \n"
   ]
  },
  {
   "cell_type": "code",
   "execution_count": null,
   "id": "4a0bd8eb-abda-4253-8747-30a6ae633775",
   "metadata": {},
   "outputs": [],
   "source": [
    "Create a time-series dataset in a Pandas DataFrame with columns: 'Date', 'Temperature', 'Humidity' and Perform the following tasks using Matplotlib: right y-axis for 'Humidity'). b) Label the x-axis as 'Date'. a) Plot the 'Temperature' and 'Humidity' on the same plot with different y-axes (left y-axis for 'Temperature' and c) Set the title of the plot as 'Temperature and Humidity Over Time'."
   ]
  },
  {
   "cell_type": "code",
   "execution_count": null,
   "id": "7d12fe52-02c7-471b-b2a8-a0b0ee988c76",
   "metadata": {},
   "outputs": [],
   "source": [
    "Create a NumPy array data containing 1000 samples from a normal distribution. Perform the following tasks using Matplotlib: a) Plot a histogram of the data with 30 bins. b) Overlay a line plot representing the normal distribution's probability density function (PDF). c) Label the x-axis as 'Value' and the y-axis as 'Frequency/Probability'. d) Set the title of the plot as 'Histogram with PDF Overlay'."
   ]
  },
  {
   "cell_type": "code",
   "execution_count": null,
   "id": "fd810827-61f6-4650-8b08-0d3c4fa161bb",
   "metadata": {},
   "outputs": [],
   "source": [
    "import numpy as np\n",
    "import matplotlib.pyplot as plt\n",
    "from scipy.stats import norm\n",
    "\n",
    "# Generate 1000 samples from a normal distribution (mean=0, std=1)\n",
    "data = np.random.normal(loc=0, scale=1, size=1000)\n",
    "\n",
    "# a) Plot a histogram of the data with 30 bins\n",
    "count, bins, ignored = plt.hist(data, bins=30, density=True, alpha=0.5, color='gray', label='Histogram')\n",
    "\n",
    "# b)\n"
   ]
  },
  {
   "cell_type": "code",
   "execution_count": null,
   "id": "a5782a09-8437-4311-a690-a78a3c8d7d33",
   "metadata": {},
   "outputs": [],
   "source": [
    "Set the title of the plot as 'Histogram with PDF Overlay'."
   ]
  },
  {
   "cell_type": "code",
   "execution_count": null,
   "id": "2e3c4752-43fc-461b-b8e0-6e372ea3945f",
   "metadata": {},
   "outputs": [],
   "source": [
    "import numpy as np\n",
    "import matplotlib.pyplot as plt\n",
    "from scipy.stats import norm\n",
    "\n",
    "# Generate 1000 samples from a normal distribution (mean=0, std=1)\n",
    "data = np.random.normal(loc=0, scale=1, size=1000)\n",
    "\n",
    "# a) Plot a histogram of the data with 30 bins\n",
    "count, bins, ignored = plt.hist(data, bins=30, density=True, alpha=0.5, color='gray', label='Histogram\n"
   ]
  },
  {
   "cell_type": "code",
   "execution_count": null,
   "id": "af331e77-a52e-4bfc-8e4f-c5449642e4c1",
   "metadata": {},
   "outputs": [],
   "source": [
    "Create a Seaborn scatter plot of two random arrays, color points based on their position relative to the origin (quadrants), add a legend, label the axes, and set the title as 'Quadrant-wise Scatter Plot'."
   ]
  },
  {
   "cell_type": "code",
   "execution_count": null,
   "id": "777bb446-b251-49e9-a4e2-6fcd5b8b9e83",
   "metadata": {},
   "outputs": [],
   "source": [
    "import numpy as np\n",
    "import pandas as pd\n",
    "import seaborn as sns\n",
    "import matplotlib.pyplot as plt\n",
    "\n",
    "# Generate two random arrays\n",
    "np.random.seed(42)  # For reproducibility\n",
    "x = np.random.uniform(-10, 10, 100)\n",
    "y = np.random.uniform(-10, 10, 100)\n",
    "\n",
    "# Create a DataFrame to hold the data\n",
    "df = pd.DataFrame({'X': x, 'Y': y})\n",
    "\n",
    "# Define a function to determine the quadrant\n",
    "def determine_quadrant(row):\n",
    "    if row['X'] > 0 and row['Y'] > 0:\n",
    "        return 'Quadrant 1'\n",
    "    elif row['X'] < 0 and row['Y'] > 0:\n",
    "        return 'Quadrant 2'\n",
    "    elif row['X'] < 0 and row['Y'] < 0:\n",
    "        return 'Quadrant 3'\n",
    "    elif row['X'] > 0 and row['Y'] < 0:\n",
    "        return 'Quadrant 4'\n",
    "    else:\n",
    "        return 'Origin'  # Points that lie on the axes\n",
    "\n",
    "# Apply the function to create a new column in the DataFrame\n",
    "df['Quadrant'] = df.apply(determine_quadrant, axis=1)\n",
    "\n",
    "# Create the scatter plot\n",
    "plt.figure(figsize=(10, 6))\n",
    "sns.scatterplot(data=df, x='X', y='Y', hue='Quadrant', palette='Set1', s=100)\n",
    "\n",
    "# Add legend and labels\n",
    "plt.title('Quadrant-wise Scatter Plot')\n",
    "plt.xlabel('X-axis')\n",
    "plt.ylabel('Y-axis')\n",
    "plt.axhline(0, color='black', lw=1)  # X-axis\n",
    "plt.axvline(0, color='black', lw=1)  # Y-axis\n",
    "plt.grid()\n",
    "\n",
    "# Show the plot\n",
    "plt.legend(title='Quadrants')\n",
    "plt.show()\n"
   ]
  },
  {
   "cell_type": "code",
   "execution_count": null,
   "id": "9d035e50-1b67-45d8-b1fd-c7c179ca7578",
   "metadata": {},
   "outputs": [],
   "source": [
    "With Bokeh, plot a line chart of a sine wave function, add grid lines, label the axes, and set the title as 'Sine Wave Function"
   ]
  },
  {
   "cell_type": "code",
   "execution_count": null,
   "id": "ae50f3c7-6f8e-4da6-94c2-40c0d13b5b34",
   "metadata": {},
   "outputs": [],
   "source": [
    "from bokeh.plotting import figure, show\n",
    "from bokeh.io import output_notebook\n",
    "import numpy as np\n",
    "\n",
    "# Prepare the output to display in a Jupyter Notebook\n",
    "output_notebook()\n",
    "\n",
    "# Generate x values and compute sine values\n",
    "x = np.linspace(0, 2 * np.pi, 100)  # 100 points from 0 to 2π\n",
    "y = np.sin(x)\n",
    "\n",
    "# Create a Bokeh figure\n",
    "p = figure(title='Sine Wave Function', x_axis_label='X-axis', y_axis_label='Y-axis', \n",
    "           width=800, height=400)\n",
    "\n",
    "# Add a line renderer\n",
    "p.line(x, y, legend_label='sin(x)', line_width=2, line_color='blue')\n",
    "\n",
    "# Add grid lines\n",
    "p.grid.grid_line_alpha = 0.5\n",
    "\n",
    "# Show the plot\n"
   ]
  },
  {
   "cell_type": "code",
   "execution_count": null,
   "id": "a207bdb6-6d3c-48fa-8e02-abf9addc28d5",
   "metadata": {},
   "outputs": [],
   "source": [
    "Using Bokeh, generate a bar chart of randomly generated categorical data, color bars based on their values, add hover tooltips to display exact values, label the axes, and set the title as 'Random Categorical Bar Chart"
   ]
  },
  {
   "cell_type": "code",
   "execution_count": null,
   "id": "565dffc2-6ada-4cfa-a691-09c79228f6b6",
   "metadata": {},
   "outputs": [],
   "source": [
    "from bokeh.plotting import figure, show\n",
    "from bokeh.io import output_notebook\n",
    "from bokeh.models import ColumnDataSource, HoverTool\n",
    "import numpy as np\n",
    "import pandas as pd\n",
    "\n",
    "# Prepare the output to display in a Jupyter Notebook\n",
    "output_notebook()\n",
    "\n",
    "# Generate random categorical data\n",
    "categories = ['Category A', 'Category B', 'Category C', 'Category D', 'Category E']\n",
    "values = np.random.randint(10, 100, size=len(categories))\n",
    "\n",
    "# Create a Da\n"
   ]
  },
  {
   "cell_type": "code",
   "execution_count": null,
   "id": "ca9757e0-c69c-4acb-b3e3-8203aeaae8e4",
   "metadata": {},
   "outputs": [],
   "source": [
    "Using Plotly, create a basic line plot of a randomly generated dataset, label the axes, and set the title as 'Simple Line Plot"
   ]
  },
  {
   "cell_type": "code",
   "execution_count": null,
   "id": "4e83e517-3abe-445d-bc7c-fde1b06afddb",
   "metadata": {},
   "outputs": [],
   "source": [
    "import numpy as np\n",
    "import plotly.graph_objects as go\n",
    "\n",
    "# Generate random data\n",
    "np.random.seed(42)  # For reproducibility\n",
    "x = np.linspace(0, 10, 100)  # 100 points from 0 to 10\n",
    "y = np.random.rand(100)  # Random values\n",
    "\n",
    "# Create a line plot\n",
    "fig = go.Figure()\n",
    "\n",
    "# Add line to the plot\n",
    "fig.add_trace(go.Scatter(x=x, y=y, mode='lines', name='Random Data'))\n",
    "\n",
    "# Update layout\n",
    "fig.update_layout(\n",
    "    title='Simple Line Plot',\n",
    " \n"
   ]
  },
  {
   "cell_type": "code",
   "execution_count": null,
   "id": "9ccd7f1a-b045-4117-8305-b55a5b368f74",
   "metadata": {},
   "outputs": [],
   "source": [
    "Using Plotly, create an interactive pie chart of randomly generated data, add labels and percentages, set the title as 'Interactive Pie Chart'."
   ]
  },
  {
   "cell_type": "code",
   "execution_count": null,
   "id": "161ae391-d339-421d-a510-bb4e94b7ce15",
   "metadata": {},
   "outputs": [],
   "source": [
    "import numpy as np\n",
    "import plotly.graph_objects as go\n",
    "\n",
    "# Generate random data\n",
    "np.random.seed(42)  # For reproducibility\n",
    "labels = ['Category A', 'Category B', 'Category C', 'Category D', 'Category E']\n",
    "values = np.random.randint(10, 100, size=len(labels))\n",
    "\n",
    "# Create a pie chart\n",
    "fig = go.Figure(data=[go.Pie(labels=labels, values=values, \n",
    "                               textinfo='label+percent', \n",
    "                               hole=0.3)])  # Optional: make it a donut chart\n",
    "\n",
    "# Update layout\n",
    "fig.update_layout(\n",
    "    title='Interactive Pie Chart'\n",
    ")\n",
    "\n",
    "# Show the plot\n",
    "fig.show()\n"
   ]
  }
 ],
 "metadata": {
  "kernelspec": {
   "display_name": "Python 3 (ipykernel)",
   "language": "python",
   "name": "python3"
  },
  "language_info": {
   "codemirror_mode": {
    "name": "ipython",
    "version": 3
   },
   "file_extension": ".py",
   "mimetype": "text/x-python",
   "name": "python",
   "nbconvert_exporter": "python",
   "pygments_lexer": "ipython3",
   "version": "3.12.4"
  }
 },
 "nbformat": 4,
 "nbformat_minor": 5
}
