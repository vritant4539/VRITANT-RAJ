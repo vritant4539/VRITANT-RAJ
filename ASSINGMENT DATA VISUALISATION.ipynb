{
 "cells": [
  {
   "cell_type": "code",
   "execution_count": null,
   "id": "146902a4-0785-4f55-95b4-8ccf42f4bebb",
   "metadata": {},
   "outputs": [],
   "source": [
    "1. Create a scatter plot using Matplotlib to visualize the relationship between two arrays, x and y for the given data. x = [1, 2, 3, 4, 5, 6, 7, 8, 9, 10] ",
    " y = [2, 4, 5, 7, 6, 8, 9, 10, 12, 13]\n"
   ]
  },
  {
   "cell_type": "code",
   "execution_count": null,
   "id": "f544aae9-56c4-46c9-8ff7-3277e7ba6e6c",
   "metadata": {},
   "outputs": [],
   "source": [
    "import matplotlib.pyplot as plt\n",
    "\n",
    "# Data\n",
    "x = [1, 2, 3, 4, 5, 6, 7, 8, 9, 10]\n",
    "y = [2, 4, 5, 7, 6, 8, 9, 10, 12, 13]\n",
    "\n",
    "# Create scatter plot\n",
    "plt.scatter(x, y, color='blue', marker='o')\n",
    "\n",
    "# Add title and labels\n",
    "plt.title('Scatter Plot of x vs y')\n",
    "plt.xlabel('x values')\n",
    "plt.ylabel('y values')\n",
    "\n",
    "# Show grid\n",
    "plt.grid(True)\n",
    "\n",
    "# Show the plot\n",
    "plt.show()\n"
   ]
  },
  {
   "cell_type": "code",
   "execution_count": null,
   "id": "74da436a-28e6-4393-9df2-04a268219669",
   "metadata": {},
   "outputs": [],
   "source": [
    "2. Generate a line plot to visualize the trend of values for the given data. data = np.array([3, 7, 9, 15, 22, 29, 35])"
   ]
  },
  {
   "cell_type": "code",
   "execution_count": null,
   "id": "14ec784f-2afa-46f5-a47e-87911b5e7b6a",
   "metadata": {},
   "outputs": [],
   "source": [
    "import numpy as np\n",
    "import matplotlib.pyplot as plt\n",
    "\n",
    "# Data\n",
    "data = np.array([3, 7, 9, 15, 22, 29, 35])\n",
    "\n",
    "# Generate x values (indices of the data)\n",
    "x = np.arange(len(data))\n",
    "\n",
    "# Create line plot\n",
    "plt.plot(x, data, marker='o', color='orange', linestyle='-', linewidth=2)\n",
    "\n",
    "# Add title and labels\n",
    "plt.title('Line Plot of\n"
   ]
  },
  {
   "cell_type": "code",
   "execution_count": null,
   "id": "d3eb9ba6-aa8e-4024-9176-008a55ce191b",
   "metadata": {},
   "outputs": [],
   "source": [
    "4. Create a histogram to visualize the distribution of values in the array data. data = np.random.normal(0, 1, 1000)"
   ]
  },
  {
   "cell_type": "code",
   "execution_count": null,
   "id": "7ea97810-fa1d-4d4e-9c42-37cee578adf3",
   "metadata": {},
   "outputs": [],
   "source": [
    "import numpy as np\n",
    "import matplotlib.pyplot as plt\n",
    "\n",
    "# Generate random data from a normal distribution\n",
    "data = np.random.normal(0, 1, 1000)\n",
    "\n",
    "# Create histogram\n",
    "plt.hist(data, bins=30, color='skyblue', edgecolor='black', alpha=0.7)\n",
    "\n",
    "# Add title and labels\n",
    "plt.title('Histogram of Normally Distributed Data')\n",
    "plt.xlabel('Value')\n",
    "plt.ylabel('Frequency')\n",
    "\n",
    "# Show gri\n"
   ]
  },
  {
   "cell_type": "code",
   "execution_count": null,
   "id": "bca373c6-83e9-4b2f-8deb-4e0169522255",
   "metadata": {},
   "outputs": [],
   "source": [
    "5. Show a pie chart to represent the percentage distribution of different sections in the array `sections`. sections = ['Section A', 'Section B', 'Section C', 'Section D'] ",
    " sizes = [25, 30, 15, 30]"
   ]
  },
  {
   "cell_type": "code",
   "execution_count": null,
   "id": "d05ce6aa-9cdb-4215-acca-4b3dfec9f0cd",
   "metadata": {},
   "outputs": [],
   "source": [
    "import matplotlib.pyplot as plt\n",
    "\n",
    "# Data\n",
    "sections = ['Section A', 'Section B', 'Section C', 'Section D']\n",
    "sizes = [25, 30, 15, 30]\n",
    "colors = ['#ff9999','#66b3ff','#99ff99','#ffcc99']  # Optional: Custom colors\n",
    "\n",
    "# Create pie chart\n",
    "plt.pie(sizes, labels=sections, colors=colors, autopct='%1.1f%%', startangle=140)\n",
    "\n",
    "# Add title\n",
    "plt.title('Percentage Distribution of Sections')\n",
    "\n",
    "# Equal aspect ratio ensures that pie chart is circular\n",
    "plt.axis('equal')\n",
    "\n",
    "# Show the plot\n",
    "plt.show()\n"
   ]
  },
  {
   "cell_type": "code",
   "execution_count": null,
   "id": "6d7d3f42-0dca-4721-b302-3f38233f1eeb",
   "metadata": {},
   "outputs": [],
   "source": [
    "SEABORN ASSIGNMENT:"
   ]
  },
  {
   "cell_type": "code",
   "execution_count": null,
   "id": "98311ba0-6b08-46dc-ad1f-72d38ea7f962",
   "metadata": {},
   "outputs": [],
   "source": [
    ". Create a scatter plot to visualize the relationship between two variables, by generating a synthetic dataset\n",
    "\n",
    "\n"
   ]
  },
  {
   "cell_type": "code",
   "execution_count": null,
   "id": "2b589132-f5f6-4a90-8d91-2c3967ec8fad",
   "metadata": {},
   "outputs": [],
   "source": [
    "import numpy as np\n",
    "import matplotlib.pyplot as plt\n",
    "\n",
    "# Generate synthetic data\n",
    "np.random.seed(0)  # For reproducibility\n",
    "x = np.random.rand(100) * 10  # 100 random points scaled to [0, 10]\n",
    "y = 2 * x + np.random.normal(0, 1, 100)  # Linear relationship with some noise\n",
    "\n",
    "# Create scatter plot\n",
    "plt.scatter(x, y, color='blue', marker='o', alpha=0.6)\n",
    "\n",
    "# Add title and labels\n",
    "plt.title('Scatter Plot of Synthetic Data')\n",
    "plt.xlabel('Variable X')\n",
    "plt.ylabel('Variab\n"
   ]
  },
  {
   "cell_type": "code",
   "execution_count": null,
   "id": "ca4f73c0-490e-4ba8-806a-43152622b6b6",
   "metadata": {},
   "outputs": [],
   "source": [
    ". Generate a dataset of random numbers. Visualize the distribution of a\n",
    "numerical variable.\n"
   ]
  },
  {
   "cell_type": "code",
   "execution_count": null,
   "id": "da053b0f-ef57-48f1-a26e-b9a83ee0c898",
   "metadata": {},
   "outputs": [],
   "source": [
    "import numpy as np\n",
    "import matplotlib.pyplot as plt\n",
    "\n",
    "# Generate a dataset of random numbers\n",
    "np.random.seed(0)  # For reproducibility\n",
    "data = np.random.normal(loc=50, scale=10, size=1000)  # Normal distribution (mean=50, std=10)\n",
    "\n",
    "# Create a histogram to visualize the distribution\n",
    "plt.hist(data, bins=30, color='lightblue', edgecolor='black', alpha=0.7)\n",
    "\n",
    "#\n"
   ]
  },
  {
   "cell_type": "code",
   "execution_count": null,
   "id": "5d827afe-a8e3-4e31-822c-bd39ae1ddcb9",
   "metadata": {},
   "outputs": [],
   "source": [
    ". Create a dataset representing categories and their corresponding values. Compare different categories based on numerical values\n"
   ]
  },
  {
   "cell_type": "code",
   "execution_count": null,
   "id": "352e7fae-2739-44f3-bbdd-96bd524d16ca",
   "metadata": {},
   "outputs": [],
   "source": [
    "import matplotlib.pyplot as plt\n",
    "\n",
    "# Create dataset\n",
    "categories = ['Category A', 'Category B', 'Category C', 'Category D', 'Category E']\n",
    "values = [23, 45, 12, 67, 34]\n",
    "\n",
    "# Create bar plot\n",
    "plt.bar(categories, values, color='skyblue')\n",
    "\n",
    "# Add title and labels\n",
    "plt.title('Comparison of Categories Based on Values')\n",
    "plt.xlabel('Categories')\n",
    "plt.ylabel('Values')\n",
    "\n",
    "# Show grid\n",
    "plt.grid(axis='y', alpha=0.75)\n",
    "\n",
    "# Show the plot\n",
    "plt.show()\n"
   ]
  },
  {
   "cell_type": "code",
   "execution_count": null,
   "id": "ae30dc17-43cf-4b5c-8908-61795899a37e",
   "metadata": {},
   "outputs": [],
   "source": [
    "Generate a dataset with categories and numerical values. Visualize the distribution of a numerical variable across different categories."
   ]
  },
  {
   "cell_type": "code",
   "execution_count": null,
   "id": "c0c25f0a-2365-4d5b-a2e8-49af8f2b7c6f",
   "metadata": {},
   "outputs": [],
   "source": [
    "import numpy as np\n",
    "import pandas as pd\n",
    "import matplotlib.pyplot as plt\n",
    "\n",
    "# Create dataset\n",
    "np.random.seed(0)  # For reproducibility\n",
    "categories = ['Category A', 'Category B', 'Category C', 'Category D']\n",
    "data = {\n",
    "    'Category': np.repeat(categories, 100),  # Repeat each category 100 times\n",
    "    'Values': np.concatenate([\n",
    "        np.random.normal(loc=10, scale=2, size=100),  # Category A\n",
    "        np.random.normal(loc=15, scale=3, size=100),  # Category B\n",
    "        np.random.normal(loc=20, scale=4, size=100),  # Category C\n",
    "       \n"
   ]
  },
  {
   "cell_type": "code",
   "execution_count": null,
   "id": "6732ed7a-5742-4e2f-8256-02d8e67ed3e2",
   "metadata": {},
   "outputs": [],
   "source": [
    "Generate a synthetic dataset with correlated features. Visualize the correlation matrix of a dataset using a heatmap."
   ]
  },
  {
   "cell_type": "code",
   "execution_count": null,
   "id": "26e4c4bc-600b-41cc-b66c-20236205317a",
   "metadata": {},
   "outputs": [],
   "source": [
    "import numpy as np\n",
    "import pandas as pd\n",
    "import seaborn as sns\n",
    "import matplotlib.pyplot as plt\n",
    "\n",
    "# Set random seed for reproducibility\n",
    "np.random.seed(0)\n",
    "\n",
    "# Generate synthetic dataset\n",
    "n_samples = 100\n",
    "x1 = np.random.normal(loc=0, scale=1, size=n_samples)\n",
    "x2 = 2 * x1 + np.random.normal(loc=0, scale=0.5, size=n_samples)  # x\n"
   ]
  },
  {
   "cell_type": "code",
   "execution_count": null,
   "id": "ec62a872-78ba-4fd7-9ffd-eadcd9bf7039",
   "metadata": {},
   "outputs": [],
   "source": [
    "PLOTLY ASSIGNMENT:"
   ]
  },
  {
   "cell_type": "code",
   "execution_count": null,
   "id": "5d433298-3806-4cd6-b789-94cba54dc687",
   "metadata": {},
   "outputs": [],
   "source": [
    "1. Using the given dataset, to generate a 3D scatter plot to visualize the distribution of data points in a threedimensional space. np.random.seed(30) ",
    " data = { ",
    " 'X': np.random.uniform(-10, 10, 300), ",
    " 'Y': np.random.uniform(-10, 10, 300), ",
    " 'Z': np.random.uniform(-10, 10, 300) ",
    " }  ",
    " df = pd.DataFrame(data)"
   ]
  },
  {
   "cell_type": "code",
   "execution_count": null,
   "id": "10a5a8d0-6033-4aa2-804b-27615f053cd6",
   "metadata": {},
   "outputs": [],
   "source": [
    "import numpy as np\n",
    "import pandas as pd\n",
    "import matplotlib.pyplot as plt\n",
    "from mpl_toolkits.mplot3d import Axes3D\n",
    "\n",
    "# Set random seed for reproducibility\n",
    "np.random.seed(30)\n",
    "\n",
    "# Generate dataset\n",
    "data = {\n",
    "    'X': np.random.uniform(-10, 10, 300),\n",
    "    'Y': np.random.uniform(-10, 10, 300),\n",
    "    'Z': np.random.uniform(-10, 10, 300)\n",
    "}\n",
    "df = pd.DataFrame(data)\n",
    "\n",
    "# Create a 3D scatter plot\n",
    "fig = plt.figure(figsize=(10, 8))\n",
    "ax = fig.add_subplot(111, projection='3d')\n",
    "\n",
    "# Scatter plot\n",
    "ax.scatter(df['X'], df['Y'], df['Z'], color='b', alpha=0.6, edgecolors='w', s=50)\n",
    "\n",
    "# Add labels\n",
    "ax.set_xlabel('X Axis')\n",
    "ax.set_ylabel('Y Axis')\n",
    "ax.set_zlabel('Z Axis')\n",
    "ax.set_title('3D Scatter Plot of Randomly Generated Data')\n",
    "\n",
    "# Show the plot\n",
    "plt.show()\n",
    "\n"
   ]
  },
  {
   "cell_type": "code",
   "execution_count": null,
   "id": "cdd9a057-1607-4a9f-9143-e3d64590a926",
   "metadata": {},
   "outputs": [],
   "source": [
    "2. Using the Student Grades, create a violin plot to display the distribution of scores across different grade categories. np.random.seed(15) ",
    " data = { ",
    " 'Grade': np.random.choice(['A', 'B', 'C', 'D', 'F'], 200), ",
    " 'Score': np.random.randint(50, 100, 200) ",
    " }  ",
    " df = pd.DataFrame(data Using the sales data, generate a heatmap to visualize the variation in sales across different months and days. np.random.seed(20) ",
    " data = { ",
    " 'Month': np.random.choice(['Jan', 'Feb', 'Mar', 'Apr', 'May'], 100), ",
    " 'Day': np.random.choice(range(1, 31), 100), ",
    " 'Sales': np.random.randint(1000, 5000, 100) ",
    " }  ",
    " df = pd.DataFrame(data)"
   ]
  },
  {
   "cell_type": "code",
   "execution_count": null,
   "id": "227d650c-5633-4f0a-9f80-62a6f5ba6160",
   "metadata": {},
   "outputs": [],
   "source": [
    "import numpy as np\n",
    "import pandas as pd\n",
    "import seaborn as sns\n",
    "import matplotlib.pyplot as plt\n",
    "\n",
    "# Set random seed for reproducibility\n",
    "np.random.seed(15)\n",
    "\n",
    "# Generate student grades dataset\n",
    "data = {\n",
    "    'Grade': np.random.choice(['A', 'B', 'C', 'D', 'F'], 200),\n",
    "    'Score': np.random.randint(50, 100, 200)\n",
    "}\n",
    "df = pd.DataFrame(data)\n",
    "\n",
    "# Create a violin plot\n",
    "plt.figure(figsize=(10, 6))\n",
    "sns.violinplot(x='Grade', y='Score', data=df, palette='muted')\n",
    "\n",
    "# Add title and labels\n",
    "plt.title('Distribution of Scores Across Different Grade Categories')\n",
    "plt.xlabel('Grade')\n",
    "plt.ylabel('Score')\n",
    "\n",
    "# Show the plot\n",
    "plt.show()\n"
   ]
  },
  {
   "cell_type": "code",
   "execution_count": null,
   "id": "050c6496-1835-46b4-ae15-a1afd5a6c4a6",
   "metadata": {},
   "outputs": [],
   "source": [
    "3. Using the sales data, generate a heatmap to visualize the variation in sales across different months and days. np.random.seed(20) ",
    " data = { ",
    " 'Month': np.random.choice(['Jan', 'Feb', 'Mar', 'Apr', 'May'], 100), ",
    " 'Day': np.random.choice(range(1, 31), 100), ",
    " 'Sales': np.random.randint(1000, 5000, 100) ",
    " }  ",
    " df = pd.DataFrame(data)"
   ]
  },
  {
   "cell_type": "code",
   "execution_count": null,
   "id": "7d3cc92e-456a-4ad5-b0fb-f600b7660f8f",
   "metadata": {},
   "outputs": [],
   "source": [
    "import numpy as np\n",
    "import pandas as pd\n",
    "import seaborn as sns\n",
    "import matplotlib.pyplot as plt\n",
    "\n",
    "# Set random seed for reproducibility\n",
    "np.random.seed(20)\n",
    "\n",
    "# Generate sales dataset\n",
    "data = {\n",
    "    'Month': np.random.choice(['Jan', 'Feb', 'Mar', 'Apr', 'May'], 100),\n",
    "    'Day': np.random.choice(range(1, 31), 100),\n",
    "    'Sales': np.random.randint(1000, 5000, 100)\n",
    "}\n",
    "df = pd.DataFrame(data)\n",
    "\n",
    "# Pivot the data for the heatmap\n",
    "pivot_table = df.pivot_table(values='Sales', index='Day', columns='Month', aggfunc='mean', fill_value=0)\n",
    "\n",
    "# Create a heatmap\n",
    "plt.figure(figsize=(10, 6))\n",
    "sns.heatmap(pivot_table, cmap='YlGnBu', annot=True, fmt=\".0f\")\n",
    "\n",
    "# Add title and labels\n",
    "plt.title('Sales Variation Across Different Months and Days')\n",
    "plt.xlabel('Month')\n",
    "plt.ylabel('Day')\n",
    "\n",
    "# Show the plot\n",
    "plt.show()\n"
   ]
  },
  {
   "cell_type": "code",
   "execution_count": null,
   "id": "eed74250-6624-4161-917a-ee9b3d103422",
   "metadata": {},
   "outputs": [],
   "source": [
    "4. Using the given x and y data, generate a 3D surface plot to visualize the function x = np.linspace(-5, 5, 100) ",
    " y = np.linspace(-5, 5, 100) ",
    " x, y = np.meshgrid(x, y) ",
    " z = np.sin(np.sqrt(x**2 + y**2)) ",
    " ",
    " data = { ",
    " 'X': x.flatten(), ",
    " 'Y': y.flatten(), ",
    " 'Z': z.flatten() ",
    " }  ",
    " df = pd.DataFrame(data)"
   ]
  },
  {
   "cell_type": "code",
   "execution_count": null,
   "id": "31fa16dc-d500-4a16-824f-392398352a47",
   "metadata": {},
   "outputs": [],
   "source": [
    "import numpy as np\n",
    "import pandas as pd\n",
    "import matplotlib.pyplot as plt\n",
    "from mpl_toolkits.mplot3d import Axes3D\n",
    "\n",
    "# Generate the data\n",
    "x = np.linspace(-5, 5, 100)\n",
    "y = np.linspace(-5, 5, 100)\n",
    "x, y = np.meshgrid(x, y)\n",
    "z = np.sin(np.sqrt(x**2 + y**2))\n",
    "\n",
    "# Create a DataFrame\n",
    "data = {\n",
    "    'X': x.flatten(),\n",
    "    'Y': y.flatten(),\n",
    "    'Z': z.flatten()\n",
    "}\n",
    "df = pd.DataFrame(data)\n",
    "\n",
    "# Create a 3D surface plot\n",
    "fig = plt.fig\n"
   ]
  },
  {
   "cell_type": "code",
   "execution_count": null,
   "id": "3a7e3591-ac24-4dcd-986f-9008d04e810b",
   "metadata": {},
   "outputs": [],
   "source": [
    "5. Using the given dataset, create a bubble chart to represent each country's population (y-axis), GDP (xaxis), and bubble size proportional to the population. np.random.seed(25) ",
    " data = { ",
    " 'Country': ['USA', 'Canada', 'UK', 'Germany', 'France'], ",
    " 'Population': np.random.randint(100, 1000, 5), ",
    " 'GDP': np.random.randint(500, 2000, 5) ",
    " }  ",
    " df = pd.DataFrame(data)"
   ]
  },
  {
   "cell_type": "code",
   "execution_count": null,
   "id": "8b3ea797-0432-4db6-be4f-20a45e7b513a",
   "metadata": {},
   "outputs": [],
   "source": [
    "import numpy as np\n",
    "import pandas as pd\n",
    "import matplotlib.pyplot as plt\n",
    "\n",
    "# Set random seed for reproducibility\n",
    "np.random.seed(25)\n",
    "\n",
    "# Generate dataset\n",
    "data = {\n",
    "    'Country': ['USA', 'Canada', 'UK', 'Germany', 'France'],\n",
    "    'Population': np.random.randint(100, 1000, 5),\n",
    "    'GDP': np.random.randint(500, 2000, 5)\n",
    "}\n",
    "df = pd.DataFrame(data)\n",
    "\n",
    "# Create a bubble chart\n",
    "plt.figure(figsize=(10, 6))\n",
    "plt.scatter(df['GDP'], df['Population'], \n",
    "            s=df['Population'] * \n"
   ]
  },
  {
   "cell_type": "code",
   "execution_count": null,
   "id": "836ef32b-0dd2-4510-b2ac-76bb95ea5f8f",
   "metadata": {},
   "outputs": [],
   "source": [
    "BOKEH ASSIGNMENT:"
   ]
  },
  {
   "cell_type": "code",
   "execution_count": null,
   "id": "6fbca47d-915a-45d3-89c2-d7527342cd96",
   "metadata": {},
   "outputs": [],
   "source": [
    "1.Create a Bokeh plot displaying a sine wave. Set x-values from 0 to 10 and y-values as the sine of x."
   ]
  },
  {
   "cell_type": "code",
   "execution_count": null,
   "id": "b3f75ecb-0f76-4137-835a-28b3d9cf9533",
   "metadata": {},
   "outputs": [],
   "source": [
    "import numpy as np\n"
   ]
  },
  {
   "cell_type": "code",
   "execution_count": null,
   "id": "cb17e68d-a09d-4923-876b-46bfe6c28575",
   "metadata": {},
   "outputs": [],
   "source": [
    "2.Create a Bokeh scatter plot using randomly generated x and y values. Use different sizes and colors for the markers based on the 'sizes' and 'colors' columns."
   ]
  },
  {
   "cell_type": "code",
   "execution_count": null,
   "id": "5ce7dfcb-886d-4287-85d3-1a4a2893aacf",
   "metadata": {},
   "outputs": [],
   "source": [
    "import numpy as np\n",
    "from bokeh.plotting import figure, show\n",
    "from bokeh.io import output_notebook\n",
    "from bokeh.models import ColumnDataSource\n",
    "\n",
    "# Optional: To display the plot inline in Jupyter Notebook\n",
    "output_notebook()\n",
    "\n",
    "# Generate random data\n",
    "np.random.seed(42)  # For reproducibility\n",
    "n = 100  # Number of points\n",
    "x = np.random.rand(n) * 10  # Random x values from 0 to 10\n",
    "y = np.random.rand(n) * 10  # Random y values from 0 to 10\n",
    "sizes = np.random.rand(n) * 50 + 10  # Random sizes for markers\n",
    "colors = np.random.choice(['#1f77b4', '#ff7f0e', '#2ca02c', '#d62728', '#9467bd'], n)  # Random colors\n",
    "\n",
    "# Create a ColumnDataSource\n",
    "source = ColumnDataSource(data=dict(x=x, y=y, size=sizes, color=colors))\n",
    "\n",
    "# Create the scatter plot\n",
    "p = figure(title=\"Random Scatter Plot\", x_axis_label='X', y_axis_label='Y', tools=\"pan,wheel_zoom,reset\")\n",
    "\n",
    "# Add scatter points\n",
    "p.scatter('x', 'y', size='size', color='color', source=source, alpha=0.6)\n",
    "\n",
    "# Show the plot\n",
    "show(p)\n"
   ]
  },
  {
   "cell_type": "code",
   "execution_count": null,
   "id": "803eeb11-6433-4890-8c36-b7cc8aa61746",
   "metadata": {},
   "outputs": [],
   "source": [
    ". Generate a Bokeh bar chart representing the counts of different fruits using the following dataset. fruits = ['Apples', 'Oranges', 'Bananas', 'Pears'] ",
    " counts = [20, 25, 30, 35]"
   ]
  },
  {
   "cell_type": "code",
   "execution_count": null,
   "id": "ef21c064-3a07-4dac-bf4c-ac1ca00d3fc5",
   "metadata": {},
   "outputs": [],
   "source": [
    "from bokeh.plotting import figure, show\n",
    "from bokeh.io import output_notebook\n",
    "from bokeh.transform import factor_cmap\n",
    "\n",
    "# Optional: To display the plot inline in Jupyter Notebook\n",
    "output_notebook()\n",
    "\n",
    "# Data\n",
    "fruits = ['Apples', 'Oranges', 'Bananas', 'Pears']\n",
    "counts = [20, 25, 30, 35]\n",
    "\n",
    "# Create a figure for the bar chart\n",
    "p = figure(x_range=fruits, title=\"Fruit Counts\", \n",
    "           toolbar_location=None, tools=\"\")\n",
    "\n",
    "# Add bars to t\n"
   ]
  },
  {
   "cell_type": "code",
   "execution_count": null,
   "id": "e5f7a31f-27a0-43a4-a249-7e26b4b41b5e",
   "metadata": {},
   "outputs": [],
   "source": [
    "4. Create a Bokeh histogram to visualize the distribution of the given data. data_hist = np.random.randn(1000) ",
    " hist, edges = np.histogram(data_hist, bins=30)"
   ]
  },
  {
   "cell_type": "code",
   "execution_count": null,
   "id": "72ccdbac-03d5-4508-86a3-c6ed1a3ccd61",
   "metadata": {},
   "outputs": [],
   "source": [
    "import numpy as np\n",
    "from bokeh.plotting import figure, show\n",
    "from bokeh.io import output_notebook\n",
    "\n",
    "# Optional: To display the plot inline in Jupyter Notebook\n",
    "output_notebook()\n",
    "\n",
    "# Generate random data\n",
    "data_hist = np.random.randn(1000)\n",
    "\n",
    "# Create histogram data\n",
    "hist, edges = np.histogram(data_hist, bins=30)\n",
    "\n",
    "# Create a figure for the histogram\n",
    "p = figure(title=\"Histogram of Random Data\", \n",
    "           x_axis_label='Value', \n",
    "           y_axis_label='Frequency')\n",
    "\n",
    "# Add bars to the figure\n",
    "p.quad(top=hist, bottom=0, left=edges\n"
   ]
  },
  {
   "cell_type": "code",
   "execution_count": null,
   "id": "80baf008-7ea2-434a-99a0-440940cb95b6",
   "metadata": {},
   "outputs": [],
   "source": [
    "5. Create a Bokeh heatmap using the provided dataset. data_heatmap = np.random.rand(10, 10) ",
    " x = np.linspace(0, 1, 10) ",
    " y = np.linspace(0, 1, 10) ",
    " xx, yy = np.meshgrid(x, y)"
   ]
  },
  {
   "cell_type": "code",
   "execution_count": null,
   "id": "029519ce-7c79-45f2-ab76-487fee5acfe1",
   "metadata": {},
   "outputs": [],
   "source": [
    "import numpy as np\n",
    "from bokeh.plotting import figure, show\n",
    "from bokeh.io import output_notebook\n",
    "from bokeh.transform import linear_cmap\n",
    "from bokeh.models import ColorBar, LinearColorMapper\n",
    "\n",
    "# Optional: To display the plot inline in Jupyter Notebook\n",
    "output_notebook()\n",
    "\n",
    "# Generate random data for the heatmap\n",
    "data_heatmap = np.random.rand(10, 10)\n",
    "x = np.linspace(0, 1, 10)\n",
    "y = np.linspace(0, 1, 1\n"
   ]
  },
  {
   "cell_type": "code",
   "execution_count": null,
   "id": "6b364cee-e5b4-4661-b417-68529fb66ef8",
   "metadata": {},
   "outputs": [],
   "source": []
  }
 ],
 "metadata": {
  "kernelspec": {
   "display_name": "Python 3 (ipykernel)",
   "language": "python",
   "name": "python3"
  },
  "language_info": {
   "codemirror_mode": {
    "name": "ipython",
    "version": 3
   },
   "file_extension": ".py",
   "mimetype": "text/x-python",
   "name": "python",
   "nbconvert_exporter": "python",
   "pygments_lexer": "ipython3",
   "version": "3.12.4"
  }
 },
 "nbformat": 4,
 "nbformat_minor": 5
}
